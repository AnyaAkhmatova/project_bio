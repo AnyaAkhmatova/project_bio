{
 "cells": [
  {
   "cell_type": "code",
   "execution_count": 3,
   "metadata": {},
   "outputs": [],
   "source": [
    "! blastp  -query protein_setd2.fasta -db /mnt/storage/project_2023/proteomes/human.faa  -out human.blast  -outfmt 7\n",
    "! blastp  -query protein_setd2.fasta -db /mnt/storage/project_2023/proteomes/mouse.faa  -out mouse.blast  -outfmt 7\n",
    "! blastp  -query protein_setd2.fasta -db /mnt/storage/project_2023/proteomes/zebrafish.faa  -out zebrafish.blast  -outfmt 7\n",
    "! blastp  -query protein_setd2.fasta -db /mnt/storage/project_2023/proteomes/drosophila.faa  -out drosophila.blast  -outfmt 7\n",
    "! blastp  -query protein_setd2.fasta -db /mnt/storage/project_2023/proteomes/c.elegans.faa  -out c.elegans.blast  -outfmt 7\n",
    "! blastp  -query protein_setd2.fasta -db /mnt/storage/project_2023/proteomes/ciliate.faa  -out ciliate.blast  -outfmt 7\n",
    "! blastp  -query protein_setd2.fasta -db /mnt/storage/project_2023/proteomes/yeast.faa  -out yeast.blast  -outfmt 7\n",
    "! blastp  -query protein_setd2.fasta -db /mnt/storage/project_2023/proteomes/methanocaldococcus.faa  -out methanocaldococcus.blast  -outfmt 7\n",
    "! blastp  -query protein_setd2.fasta -db /mnt/storage/project_2023/proteomes/thermococcus.faa  -out thermococcus.blast  -outfmt 7\n",
    "! blastp  -query protein_setd2.fasta -db /mnt/storage/project_2023/proteomes/e.coli.faa  -out e.coli.blast  -outfmt 7\n",
    "! blastp  -query protein_setd2.fasta -db /mnt/storage/project_2023/proteomes/tuberculosis.faa  -out tuberculosis.blast  -outfmt 7"
   ]
  },
  {
   "cell_type": "code",
   "execution_count": 4,
   "metadata": {},
   "outputs": [],
   "source": [
    "hists = ['h2a', 'h2b', 'h3', 'h4']\n",
    "orgs = ['human', 'mouse', 'zebrafish', 'drosophila', 'c.elegans', 'ciliate', 'yeast', 'methanocaldococcus', 'thermococcus', 'e.coli', 'tuberculosis']\n",
    "\n",
    "for hist in hists:\n",
    "    for org in orgs:\n",
    "        ! blastp  -query {hist}.fasta -db /mnt/storage/project_2023/proteomes/{org}.faa -evalue 1e-10 -outfmt 6 -out {hist}_{org}.blast"
   ]
  },
  {
   "cell_type": "code",
   "execution_count": 6,
   "metadata": {},
   "outputs": [
    {
     "name": "stdout",
     "output_type": "stream",
     "text": [
      "Defaulting to user installation because normal site-packages is not writeable\n",
      "Collecting pandas\n",
      "  Downloading pandas-2.0.2-cp310-cp310-manylinux_2_17_x86_64.manylinux2014_x86_64.whl (12.3 MB)\n",
      "\u001b[2K     \u001b[90m━━━━━━━━━━━━━━━━━━━━━━━━━━━━━━━━━━━━━━━━\u001b[0m \u001b[32m12.3/12.3 MB\u001b[0m \u001b[31m56.0 MB/s\u001b[0m eta \u001b[36m0:00:00\u001b[0m00:01\u001b[0m0:01\u001b[0m\n",
      "\u001b[?25hRequirement already satisfied: numpy>=1.21.0 in /usr/local/lib/python3.10/dist-packages (from pandas) (1.23.3)\n",
      "Requirement already satisfied: python-dateutil>=2.8.2 in /home/auakhmatova/.local/lib/python3.10/site-packages (from pandas) (2.8.2)\n",
      "Collecting tzdata>=2022.1\n",
      "  Downloading tzdata-2023.3-py2.py3-none-any.whl (341 kB)\n",
      "\u001b[2K     \u001b[90m━━━━━━━━━━━━━━━━━━━━━━━━━━━━━━━━━━━━━━\u001b[0m \u001b[32m341.8/341.8 KB\u001b[0m \u001b[31m75.6 MB/s\u001b[0m eta \u001b[36m0:00:00\u001b[0m\n",
      "\u001b[?25hRequirement already satisfied: pytz>=2020.1 in /usr/lib/python3/dist-packages (from pandas) (2022.1)\n",
      "Requirement already satisfied: six>=1.5 in /usr/lib/python3/dist-packages (from python-dateutil>=2.8.2->pandas) (1.16.0)\n",
      "Installing collected packages: tzdata, pandas\n",
      "Successfully installed pandas-2.0.2 tzdata-2023.3\n"
     ]
    }
   ],
   "source": [
    "! pip3 install pandas"
   ]
  },
  {
   "cell_type": "code",
   "execution_count": 33,
   "metadata": {},
   "outputs": [],
   "source": [
    "import pandas as pd"
   ]
  },
  {
   "cell_type": "code",
   "execution_count": 34,
   "metadata": {},
   "outputs": [
    {
     "data": {
      "text/html": [
       "<div>\n",
       "<style scoped>\n",
       "    .dataframe tbody tr th:only-of-type {\n",
       "        vertical-align: middle;\n",
       "    }\n",
       "\n",
       "    .dataframe tbody tr th {\n",
       "        vertical-align: top;\n",
       "    }\n",
       "\n",
       "    .dataframe thead th {\n",
       "        text-align: right;\n",
       "    }\n",
       "</style>\n",
       "<table border=\"1\" class=\"dataframe\">\n",
       "  <thead>\n",
       "    <tr style=\"text-align: right;\">\n",
       "      <th></th>\n",
       "      <th>human</th>\n",
       "      <th>mouse</th>\n",
       "      <th>zebrafish</th>\n",
       "      <th>drosophila</th>\n",
       "      <th>c.elegans</th>\n",
       "      <th>ciliate</th>\n",
       "      <th>yeast</th>\n",
       "      <th>methanocaldococcus</th>\n",
       "      <th>thermococcus</th>\n",
       "      <th>e.coli</th>\n",
       "      <th>tuberculosis</th>\n",
       "    </tr>\n",
       "  </thead>\n",
       "  <tbody>\n",
       "    <tr>\n",
       "      <th>setd2</th>\n",
       "      <td>0.0</td>\n",
       "      <td>0.0</td>\n",
       "      <td>0.0</td>\n",
       "      <td>1.290000e-73</td>\n",
       "      <td>1.600000e-48</td>\n",
       "      <td>1.180000e-53</td>\n",
       "      <td>5.110000e-54</td>\n",
       "      <td>0.45</td>\n",
       "      <td>0.72</td>\n",
       "      <td>0.063</td>\n",
       "      <td>0.43</td>\n",
       "    </tr>\n",
       "  </tbody>\n",
       "</table>\n",
       "</div>"
      ],
      "text/plain": [
       "       human  mouse  zebrafish    drosophila     c.elegans       ciliate  \\\n",
       "setd2    0.0    0.0        0.0  1.290000e-73  1.600000e-48  1.180000e-53   \n",
       "\n",
       "              yeast  methanocaldococcus  thermococcus  e.coli  tuberculosis  \n",
       "setd2  5.110000e-54                0.45          0.72   0.063          0.43  "
      ]
     },
     "execution_count": 34,
     "metadata": {},
     "output_type": "execute_result"
    }
   ],
   "source": [
    "df = pd.DataFrame(columns=['human', 'mouse', 'zebrafish', 'drosophila', 'c.elegans', \\\n",
    "                           'ciliate', 'yeast', 'methanocaldococcus', 'thermococcus', 'e.coli', 'tuberculosis'])\n",
    "\n",
    "df.loc['setd2'] = [0.0, 0.0, 0.0, 1.29e-73, 1.60e-48, 1.18e-53, 5.11e-54, 0.45, 0.72, 0.063, 0.43]\n",
    "\n",
    "df"
   ]
  },
  {
   "cell_type": "code",
   "execution_count": 35,
   "metadata": {},
   "outputs": [
    {
     "data": {
      "text/html": [
       "<div>\n",
       "<style scoped>\n",
       "    .dataframe tbody tr th:only-of-type {\n",
       "        vertical-align: middle;\n",
       "    }\n",
       "\n",
       "    .dataframe tbody tr th {\n",
       "        vertical-align: top;\n",
       "    }\n",
       "\n",
       "    .dataframe thead th {\n",
       "        text-align: right;\n",
       "    }\n",
       "</style>\n",
       "<table border=\"1\" class=\"dataframe\">\n",
       "  <thead>\n",
       "    <tr style=\"text-align: right;\">\n",
       "      <th></th>\n",
       "      <th>human</th>\n",
       "      <th>mouse</th>\n",
       "      <th>zebrafish</th>\n",
       "      <th>drosophila</th>\n",
       "      <th>c.elegans</th>\n",
       "      <th>ciliate</th>\n",
       "      <th>yeast</th>\n",
       "      <th>methanocaldococcus</th>\n",
       "      <th>thermococcus</th>\n",
       "      <th>e.coli</th>\n",
       "      <th>tuberculosis</th>\n",
       "    </tr>\n",
       "  </thead>\n",
       "  <tbody>\n",
       "    <tr>\n",
       "      <th>setd2</th>\n",
       "      <td>0.000000e+00</td>\n",
       "      <td>0.000000e+00</td>\n",
       "      <td>0.000000e+00</td>\n",
       "      <td>1.290000e-73</td>\n",
       "      <td>1.600000e-48</td>\n",
       "      <td>1.180000e-53</td>\n",
       "      <td>5.110000e-54</td>\n",
       "      <td>0.45</td>\n",
       "      <td>0.72</td>\n",
       "      <td>6.300000e-02</td>\n",
       "      <td>0.43</td>\n",
       "    </tr>\n",
       "    <tr>\n",
       "      <th>h2a</th>\n",
       "      <td>0.000000e+00</td>\n",
       "      <td>0.000000e+00</td>\n",
       "      <td>0.000000e+00</td>\n",
       "      <td>1.230000e-43</td>\n",
       "      <td>2.710000e-45</td>\n",
       "      <td>3.440000e-46</td>\n",
       "      <td>1.070000e-45</td>\n",
       "      <td>1.00</td>\n",
       "      <td>1.00</td>\n",
       "      <td>1.180000e-21</td>\n",
       "      <td>1.00</td>\n",
       "    </tr>\n",
       "    <tr>\n",
       "      <th>h2b</th>\n",
       "      <td>2.780000e-88</td>\n",
       "      <td>1.950000e-88</td>\n",
       "      <td>1.860000e-83</td>\n",
       "      <td>2.750000e-60</td>\n",
       "      <td>5.980000e-66</td>\n",
       "      <td>4.620000e-51</td>\n",
       "      <td>1.010000e-60</td>\n",
       "      <td>1.00</td>\n",
       "      <td>1.00</td>\n",
       "      <td>1.000000e+00</td>\n",
       "      <td>1.00</td>\n",
       "    </tr>\n",
       "    <tr>\n",
       "      <th>h3</th>\n",
       "      <td>2.190000e-96</td>\n",
       "      <td>1.540000e-96</td>\n",
       "      <td>1.770000e-95</td>\n",
       "      <td>9.390000e-96</td>\n",
       "      <td>4.460000e-94</td>\n",
       "      <td>8.410000e-86</td>\n",
       "      <td>3.310000e-87</td>\n",
       "      <td>1.00</td>\n",
       "      <td>1.00</td>\n",
       "      <td>1.000000e+00</td>\n",
       "      <td>1.00</td>\n",
       "    </tr>\n",
       "    <tr>\n",
       "      <th>h4</th>\n",
       "      <td>1.090000e-67</td>\n",
       "      <td>7.600000e-68</td>\n",
       "      <td>1.130000e-68</td>\n",
       "      <td>8.020000e-68</td>\n",
       "      <td>6.150000e-68</td>\n",
       "      <td>1.960000e-45</td>\n",
       "      <td>1.080000e-52</td>\n",
       "      <td>1.00</td>\n",
       "      <td>1.00</td>\n",
       "      <td>1.000000e+00</td>\n",
       "      <td>1.00</td>\n",
       "    </tr>\n",
       "  </tbody>\n",
       "</table>\n",
       "</div>"
      ],
      "text/plain": [
       "              human         mouse     zebrafish    drosophila     c.elegans  \\\n",
       "setd2  0.000000e+00  0.000000e+00  0.000000e+00  1.290000e-73  1.600000e-48   \n",
       "h2a    0.000000e+00  0.000000e+00  0.000000e+00  1.230000e-43  2.710000e-45   \n",
       "h2b    2.780000e-88  1.950000e-88  1.860000e-83  2.750000e-60  5.980000e-66   \n",
       "h3     2.190000e-96  1.540000e-96  1.770000e-95  9.390000e-96  4.460000e-94   \n",
       "h4     1.090000e-67  7.600000e-68  1.130000e-68  8.020000e-68  6.150000e-68   \n",
       "\n",
       "            ciliate         yeast  methanocaldococcus  thermococcus  \\\n",
       "setd2  1.180000e-53  5.110000e-54                0.45          0.72   \n",
       "h2a    3.440000e-46  1.070000e-45                1.00          1.00   \n",
       "h2b    4.620000e-51  1.010000e-60                1.00          1.00   \n",
       "h3     8.410000e-86  3.310000e-87                1.00          1.00   \n",
       "h4     1.960000e-45  1.080000e-52                1.00          1.00   \n",
       "\n",
       "             e.coli  tuberculosis  \n",
       "setd2  6.300000e-02          0.43  \n",
       "h2a    1.180000e-21          1.00  \n",
       "h2b    1.000000e+00          1.00  \n",
       "h3     1.000000e+00          1.00  \n",
       "h4     1.000000e+00          1.00  "
      ]
     },
     "execution_count": 35,
     "metadata": {},
     "output_type": "execute_result"
    }
   ],
   "source": [
    "for hist in hists:\n",
    "    for org in orgs:\n",
    "        try:\n",
    "            cur = pd.read_csv(hist + '_' + org + '.blast', sep='\\t', header=None)\n",
    "        except:\n",
    "            df.loc[hist, org] = 1\n",
    "        else:\n",
    "            if len(cur) > 0: \n",
    "                df.loc[hist, org] = cur.iloc[0, 10]\n",
    "            else:\n",
    "                df.loc[hist, org] = 1\n",
    "\n",
    "df\n",
    "            "
   ]
  },
  {
   "cell_type": "code",
   "execution_count": 36,
   "metadata": {},
   "outputs": [],
   "source": [
    "import numpy as np"
   ]
  },
  {
   "cell_type": "code",
   "execution_count": 49,
   "metadata": {},
   "outputs": [
    {
     "name": "stderr",
     "output_type": "stream",
     "text": [
      "/tmp/ipykernel_3816032/3408729011.py:1: RuntimeWarning: divide by zero encountered in log10\n",
      "  log_df = pd.DataFrame(-np.log10(df.values), columns=['human', 'mouse', 'zebrafish', 'drosophila', 'c.elegans', \\\n"
     ]
    },
    {
     "data": {
      "text/html": [
       "<div>\n",
       "<style scoped>\n",
       "    .dataframe tbody tr th:only-of-type {\n",
       "        vertical-align: middle;\n",
       "    }\n",
       "\n",
       "    .dataframe tbody tr th {\n",
       "        vertical-align: top;\n",
       "    }\n",
       "\n",
       "    .dataframe thead th {\n",
       "        text-align: right;\n",
       "    }\n",
       "</style>\n",
       "<table border=\"1\" class=\"dataframe\">\n",
       "  <thead>\n",
       "    <tr style=\"text-align: right;\">\n",
       "      <th></th>\n",
       "      <th>human</th>\n",
       "      <th>mouse</th>\n",
       "      <th>zebrafish</th>\n",
       "      <th>drosophila</th>\n",
       "      <th>c.elegans</th>\n",
       "      <th>ciliate</th>\n",
       "      <th>yeast</th>\n",
       "      <th>methanocaldococcus</th>\n",
       "      <th>thermococcus</th>\n",
       "      <th>e.coli</th>\n",
       "      <th>tuberculosis</th>\n",
       "    </tr>\n",
       "  </thead>\n",
       "  <tbody>\n",
       "    <tr>\n",
       "      <th>setd2</th>\n",
       "      <td>300.000000</td>\n",
       "      <td>300.000000</td>\n",
       "      <td>300.000000</td>\n",
       "      <td>72.889410</td>\n",
       "      <td>47.795880</td>\n",
       "      <td>52.928118</td>\n",
       "      <td>53.291579</td>\n",
       "      <td>0.346787</td>\n",
       "      <td>0.142668</td>\n",
       "      <td>1.200659</td>\n",
       "      <td>0.366532</td>\n",
       "    </tr>\n",
       "    <tr>\n",
       "      <th>h2a</th>\n",
       "      <td>300.000000</td>\n",
       "      <td>300.000000</td>\n",
       "      <td>300.000000</td>\n",
       "      <td>42.910095</td>\n",
       "      <td>44.567031</td>\n",
       "      <td>45.463442</td>\n",
       "      <td>44.970616</td>\n",
       "      <td>-0.000000</td>\n",
       "      <td>-0.000000</td>\n",
       "      <td>20.928118</td>\n",
       "      <td>-0.000000</td>\n",
       "    </tr>\n",
       "    <tr>\n",
       "      <th>h2b</th>\n",
       "      <td>87.555955</td>\n",
       "      <td>87.709965</td>\n",
       "      <td>82.730487</td>\n",
       "      <td>59.560667</td>\n",
       "      <td>65.223299</td>\n",
       "      <td>50.335358</td>\n",
       "      <td>59.995679</td>\n",
       "      <td>-0.000000</td>\n",
       "      <td>-0.000000</td>\n",
       "      <td>-0.000000</td>\n",
       "      <td>-0.000000</td>\n",
       "    </tr>\n",
       "    <tr>\n",
       "      <th>h3</th>\n",
       "      <td>95.659556</td>\n",
       "      <td>95.812479</td>\n",
       "      <td>94.752027</td>\n",
       "      <td>95.027334</td>\n",
       "      <td>93.350665</td>\n",
       "      <td>85.075204</td>\n",
       "      <td>86.480172</td>\n",
       "      <td>-0.000000</td>\n",
       "      <td>-0.000000</td>\n",
       "      <td>-0.000000</td>\n",
       "      <td>-0.000000</td>\n",
       "    </tr>\n",
       "    <tr>\n",
       "      <th>h4</th>\n",
       "      <td>66.962574</td>\n",
       "      <td>67.119186</td>\n",
       "      <td>67.946922</td>\n",
       "      <td>67.095826</td>\n",
       "      <td>67.211125</td>\n",
       "      <td>44.707744</td>\n",
       "      <td>51.966576</td>\n",
       "      <td>-0.000000</td>\n",
       "      <td>-0.000000</td>\n",
       "      <td>-0.000000</td>\n",
       "      <td>-0.000000</td>\n",
       "    </tr>\n",
       "  </tbody>\n",
       "</table>\n",
       "</div>"
      ],
      "text/plain": [
       "            human       mouse   zebrafish  drosophila  c.elegans    ciliate  \\\n",
       "setd2  300.000000  300.000000  300.000000   72.889410  47.795880  52.928118   \n",
       "h2a    300.000000  300.000000  300.000000   42.910095  44.567031  45.463442   \n",
       "h2b     87.555955   87.709965   82.730487   59.560667  65.223299  50.335358   \n",
       "h3      95.659556   95.812479   94.752027   95.027334  93.350665  85.075204   \n",
       "h4      66.962574   67.119186   67.946922   67.095826  67.211125  44.707744   \n",
       "\n",
       "           yeast  methanocaldococcus  thermococcus     e.coli  tuberculosis  \n",
       "setd2  53.291579            0.346787      0.142668   1.200659      0.366532  \n",
       "h2a    44.970616           -0.000000     -0.000000  20.928118     -0.000000  \n",
       "h2b    59.995679           -0.000000     -0.000000  -0.000000     -0.000000  \n",
       "h3     86.480172           -0.000000     -0.000000  -0.000000     -0.000000  \n",
       "h4     51.966576           -0.000000     -0.000000  -0.000000     -0.000000  "
      ]
     },
     "execution_count": 49,
     "metadata": {},
     "output_type": "execute_result"
    }
   ],
   "source": [
    "log_df = pd.DataFrame(-np.log10(df.values), columns=['human', 'mouse', 'zebrafish', 'drosophila', 'c.elegans', \\\n",
    "                                                   'ciliate', 'yeast', 'methanocaldococcus', 'thermococcus', 'e.coli', 'tuberculosis'])\n",
    "log_df[log_df > 300] = 300\n",
    "log_df.index = df.index\n",
    "\n",
    "log_df"
   ]
  },
  {
   "cell_type": "code",
   "execution_count": 50,
   "metadata": {},
   "outputs": [],
   "source": [
    "df.to_csv(path_or_buf='results.csv')\n",
    "log_df.to_csv(path_or_buf='log_results.csv')"
   ]
  },
  {
   "cell_type": "code",
   "execution_count": 51,
   "metadata": {},
   "outputs": [
    {
     "name": "stdout",
     "output_type": "stream",
     "text": [
      "Defaulting to user installation because normal site-packages is not writeable\n",
      "Requirement already satisfied: seaborn in /home/auakhmatova/.local/lib/python3.10/site-packages (0.12.2)\n",
      "Requirement already satisfied: pandas>=0.25 in /home/auakhmatova/.local/lib/python3.10/site-packages (from seaborn) (2.0.2)\n",
      "Requirement already satisfied: numpy!=1.24.0,>=1.17 in /usr/local/lib/python3.10/dist-packages (from seaborn) (1.23.3)\n",
      "Requirement already satisfied: matplotlib!=3.6.1,>=3.1 in /usr/local/lib/python3.10/dist-packages (from seaborn) (3.6.0)\n",
      "Requirement already satisfied: cycler>=0.10 in /usr/local/lib/python3.10/dist-packages (from matplotlib!=3.6.1,>=3.1->seaborn) (0.11.0)\n",
      "Requirement already satisfied: fonttools>=4.22.0 in /usr/local/lib/python3.10/dist-packages (from matplotlib!=3.6.1,>=3.1->seaborn) (4.37.3)\n",
      "Requirement already satisfied: pillow>=6.2.0 in /usr/lib/python3/dist-packages (from matplotlib!=3.6.1,>=3.1->seaborn) (9.0.1)\n",
      "Requirement already satisfied: kiwisolver>=1.0.1 in /usr/local/lib/python3.10/dist-packages (from matplotlib!=3.6.1,>=3.1->seaborn) (1.4.4)\n",
      "Requirement already satisfied: contourpy>=1.0.1 in /usr/local/lib/python3.10/dist-packages (from matplotlib!=3.6.1,>=3.1->seaborn) (1.0.5)\n",
      "Requirement already satisfied: python-dateutil>=2.7 in /home/auakhmatova/.local/lib/python3.10/site-packages (from matplotlib!=3.6.1,>=3.1->seaborn) (2.8.2)\n",
      "Requirement already satisfied: pyparsing>=2.2.1 in /usr/lib/python3/dist-packages (from matplotlib!=3.6.1,>=3.1->seaborn) (2.4.7)\n",
      "Requirement already satisfied: packaging>=20.0 in /usr/local/lib/python3.10/dist-packages (from matplotlib!=3.6.1,>=3.1->seaborn) (21.3)\n",
      "Requirement already satisfied: pytz>=2020.1 in /usr/lib/python3/dist-packages (from pandas>=0.25->seaborn) (2022.1)\n",
      "Requirement already satisfied: tzdata>=2022.1 in /home/auakhmatova/.local/lib/python3.10/site-packages (from pandas>=0.25->seaborn) (2023.3)\n",
      "Requirement already satisfied: six>=1.5 in /usr/lib/python3/dist-packages (from python-dateutil>=2.7->matplotlib!=3.6.1,>=3.1->seaborn) (1.16.0)\n"
     ]
    }
   ],
   "source": [
    "!pip3 install seaborn"
   ]
  },
  {
   "cell_type": "code",
   "execution_count": 52,
   "metadata": {},
   "outputs": [
    {
     "data": {
      "text/plain": [
       "<AxesSubplot: >"
      ]
     },
     "execution_count": 52,
     "metadata": {},
     "output_type": "execute_result"
    },
    {
     "data": {
      "image/png": "[encoded data removed]",
      "text/plain": [
       "<Figure size 640x480 with 2 Axes>"
      ]
     },
     "metadata": {},
     "output_type": "display_data"
    }
   ],
   "source": [
    "import matplotlib.pyplot as plt\n",
    "import seaborn as sns\n",
    "\n",
    "sns.heatmap(log_df)"
   ]
  },
  {
   "cell_type": "code",
   "execution_count": null,
   "metadata": {},
   "outputs": [],
   "source": []
  }
 ],
 "metadata": {
  "kernelspec": {
   "display_name": "Python 3",
   "language": "python",
   "name": "python3"
  },
  "language_info": {
   "codemirror_mode": {
    "name": "ipython",
    "version": 3
   },
   "file_extension": ".py",
   "mimetype": "text/x-python",
   "name": "python",
   "nbconvert_exporter": "python",
   "pygments_lexer": "ipython3",
   "version": "3.10.6"
  },
  "orig_nbformat": 4
 },
 "nbformat": 4,
 "nbformat_minor": 2
}
